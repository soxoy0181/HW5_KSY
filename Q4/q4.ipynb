{
 "cells": [
  {
   "cell_type": "code",
   "execution_count": 9,
   "metadata": {},
   "outputs": [
    {
     "name": "stdout",
     "output_type": "stream",
     "text": [
      "*** Subway Report for Seoul on March 2023 ***\n",
      "1호선:\n",
      "Busiest Station: 서울역 (3084227)\n",
      "Least used Station: 동묘앞 (658566)\n",
      "2호선:\n",
      "Busiest Station: 강남 (4690366)\n",
      "Least used Station: 도림천 (80084)\n",
      "3호선:\n",
      "Busiest Station: 고속터미널 (2886887)\n",
      "Least used Station: 충무로 (48)\n",
      "4호선:\n",
      "Busiest Station: 혜화 (2286709)\n",
      "Least used Station: 남태령 (79916)\n"
     ]
    }
   ],
   "source": [
    "import csv\n",
    "\n",
    "if __name__ == '__main__':\n",
    "    f = open('202303_Seoul_Subway.csv','r',encoding='utf-8')\n",
    "    data = csv.reader(f,delimiter=',')\n",
    "    header = next(data)\n",
    "\n",
    "\n",
    "    line = [\"1호선\", \"2호선\", \"3호선\", \"4호선\"]\n",
    "    max_pss_dict = {\"1호선\":0,\"2호선\":0,\"3호선\":0,\"4호선\":0}\n",
    "    min_pss_dict = {\"1호선\":99999999999999,\"2호선\":99999999999999,\"3호선\":99999999999999,\"4호선\":99999999999999}\n",
    "    max_stt_dict = {\"1호선\":\"\",\"2호선\":\"\",\"3호선\":\"\",\"4호선\":\"\"}\n",
    "    min_stt_dict = {\"1호선\":\"\",\"2호선\":\"\",\"3호선\":\"\",\"4호선\":\"\"}\n",
    "\n",
    "    for row in data:\n",
    "        if row[1] in line:\n",
    "            pssnum = int(row[4])+int(row[5])\n",
    "            if max_pss_dict[row[1]] < pssnum:\n",
    "                max_pss_dict[row[1]] = pssnum\n",
    "                max_stt_dict[row[1]] = row[3]\n",
    "            if min_pss_dict[row[1]] > pssnum:\n",
    "                min_pss_dict[row[1]] = pssnum\n",
    "                min_stt_dict[row[1]] = row[3]\n",
    "\n",
    "\n",
    "\n",
    "\n",
    "    f.close()\n",
    "\n",
    "    print(\"*** Subway Report for Seoul on March 2023 ***\")\n",
    "    for ln in line:\n",
    "        print(\"%s:\"%ln)\n",
    "        print(\"Busiest Station: %s (%d)\"%(max_stt_dict[ln],max_pss_dict[ln]))\n",
    "        print(\"Least used Station: %s (%d)\"%(min_stt_dict[ln],min_pss_dict[ln]))"
   ]
  },
  {
   "cell_type": "code",
   "execution_count": null,
   "metadata": {},
   "outputs": [],
   "source": []
  }
 ],
 "metadata": {
  "kernelspec": {
   "display_name": "Python 3",
   "language": "python",
   "name": "python3"
  },
  "language_info": {
   "codemirror_mode": {
    "name": "ipython",
    "version": 3
   },
   "file_extension": ".py",
   "mimetype": "text/x-python",
   "name": "python",
   "nbconvert_exporter": "python",
   "pygments_lexer": "ipython3",
   "version": "3.8.5"
  }
 },
 "nbformat": 4,
 "nbformat_minor": 4
}
