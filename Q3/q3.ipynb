{
 "cells": [
  {
   "cell_type": "code",
   "execution_count": 7,
   "metadata": {},
   "outputs": [
    {
     "name": "stdout",
     "output_type": "stream",
     "text": [
      "*** Subway Report for Seoul on March 2023 ***\n",
      "1st Busiest Line: Line 2 (85620512)\n",
      "2nd Busiest Line: Line 5 (39671990)\n",
      "1st Least used Line: Line 8 (11863928)\n",
      "1st Least used Line: Line 1 (14705833)\n"
     ]
    }
   ],
   "source": [
    "import csv\n",
    "\n",
    "if __name__ == '__main__':\n",
    "    f = open('202303_Seoul_Subway.csv','r',encoding='utf-8')\n",
    "    data = csv.reader(f,delimiter=',')\n",
    "    header = next(data)\n",
    "\n",
    "    line = {'1호선':0, '2호선':0, '3호선':0, '4호선':0, \n",
    "                         '5호선':0, '6호선':0, '7호선':0, '8호선':0, '9호선':0}\n",
    "\n",
    "    for row in data:\n",
    "        if row[1] in line:\n",
    "            line[row[1]] += (int(row[4]) + int(row[5]))\n",
    "\n",
    "    f.close()\n",
    "\n",
    "    sort_line = dict(sorted(line.items(), key=lambda x:x[1]))\n",
    "    key_line = list(sort_line.keys())\n",
    "    val_line = list(sort_line.values())\n",
    "\n",
    "    print(\"*** Subway Report for Seoul on March 2023 ***\")\n",
    "    print(\"1st Busiest Line: Line %s (%s)\"%(key_line[8][0], val_line[8]))\n",
    "    print(\"2nd Busiest Line: Line %s (%s)\"%(key_line[7][0], val_line[7]))\n",
    "    print(\"1st Least used Line: Line %s (%s)\"%(key_line[0][0], val_line[0]))\n",
    "    print(\"2nd Least used Line: Line %s (%s)\"%(key_line[1][0], val_line[1]))"
   ]
  },
  {
   "cell_type": "code",
   "execution_count": null,
   "metadata": {},
   "outputs": [],
   "source": []
  }
 ],
 "metadata": {
  "kernelspec": {
   "display_name": "Python 3",
   "language": "python",
   "name": "python3"
  },
  "language_info": {
   "codemirror_mode": {
    "name": "ipython",
    "version": 3
   },
   "file_extension": ".py",
   "mimetype": "text/x-python",
   "name": "python",
   "nbconvert_exporter": "python",
   "pygments_lexer": "ipython3",
   "version": "3.8.5"
  }
 },
 "nbformat": 4,
 "nbformat_minor": 4
}
