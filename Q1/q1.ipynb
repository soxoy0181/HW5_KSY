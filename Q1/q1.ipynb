{
 "cells": [
  {
   "cell_type": "code",
   "execution_count": 4,
   "metadata": {
    "scrolled": true
   },
   "outputs": [
    {
     "name": "stdout",
     "output_type": "stream",
     "text": [
      "*** Annual Temperature Report for Seoul in 2022 ***\n",
      "Average Temperature: 13.26 Celsius\n",
      "Average Minimum Temperature: 9.21 Celsius\n",
      "Average Maximum Temperature: 18.05 Celsius\n"
     ]
    }
   ],
   "source": [
    "import csv\n",
    "\n",
    "if __name__ == '__main__':\n",
    "    f = open('2022_Seoul_Temp.csv','r')\n",
    "    data = csv.reader(f,delimiter=',')\n",
    "    header = next(data)\n",
    "\n",
    "    cnt = 0\n",
    "    avgTemp = 0\n",
    "    minTemp = 0\n",
    "    maxTemp = 0\n",
    "    for row in data:\n",
    "        if row[2]==\"\" or row[3]==\"\" or row[4]==\"\":\n",
    "            continue\n",
    "        cnt += 1\n",
    "        avgTemp += float(row[2])\n",
    "        minTemp += float(row[3])\n",
    "        maxTemp += float(row[4])\n",
    "\n",
    "    f.close()\n",
    "\n",
    "    avg_avgTemp = avgTemp / cnt\n",
    "    avg_minTemp = minTemp / cnt\n",
    "    avg_maxTemp = maxTemp / cnt\n",
    "\n",
    "    print(\"*** Annual Temperature Report for Seoul in 2022 ***\")\n",
    "    print(\"Average Temperature: %.2f Celsius\" %avg_avgTemp)\n",
    "    print(\"Average Minimum Temperature: %.2f Celsius\" %avg_minTemp)\n",
    "    print(\"Average Maximum Temperature: %.2f Celsius\" %avg_maxTemp)\n",
    "    "
   ]
  },
  {
   "cell_type": "code",
   "execution_count": null,
   "metadata": {},
   "outputs": [],
   "source": []
  }
 ],
 "metadata": {
  "kernelspec": {
   "display_name": "Python 3",
   "language": "python",
   "name": "python3"
  },
  "language_info": {
   "codemirror_mode": {
    "name": "ipython",
    "version": 3
   },
   "file_extension": ".py",
   "mimetype": "text/x-python",
   "name": "python",
   "nbconvert_exporter": "python",
   "pygments_lexer": "ipython3",
   "version": "3.8.5"
  }
 },
 "nbformat": 4,
 "nbformat_minor": 4
}
