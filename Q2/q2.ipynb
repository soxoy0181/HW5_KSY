{
 "cells": [
  {
   "cell_type": "code",
   "execution_count": 2,
   "metadata": {},
   "outputs": [
    {
     "name": "stdout",
     "output_type": "stream",
     "text": [
      "*** Annual Temperature Report for Seoul in 2022 ***\n",
      "Day with the Largest Temperature Variation: 2022-11-29\n",
      "Maximum Temperature Difference: 16.6 Celsius\n",
      "Day with the Smallest Temperature Variation: 2022-06-29\n",
      "Minimum Temperature Difference: 1.7 Celsius\n"
     ]
    }
   ],
   "source": [
    "import csv\n",
    "\n",
    "if __name__ == '__main__':\n",
    "    f = open('2022_Seoul_Temp.csv','r')\n",
    "    data = csv.reader(f,delimiter=',')\n",
    "    header = next(data)\n",
    "\n",
    "    max_diff = 0\n",
    "    min_diff = 999\n",
    "    max_diff_date = \"\"\n",
    "    min_diff_date = \"\"\n",
    "    for row in data:\n",
    "        if row[3]==\"\" or row[4]==\"\":\n",
    "            continue\n",
    "        diff = float(row[4]) - float(row[3])\n",
    "        if max_diff < diff:\n",
    "            max_diff = diff\n",
    "            max_diff_date = row[0]\n",
    "        if min_diff > diff:\n",
    "            min_diff = diff\n",
    "            min_diff_date = row[0]\n",
    "\n",
    "    f.close()        \n",
    "\n",
    "    print(\"*** Annual Temperature Report for Seoul in 2022 ***\")\n",
    "    print(\"Day with the Largest Temperature Variation: %s\" %max_diff_date)\n",
    "    print(\"Maximum Temperature Difference: %.1f Celsius\" %max_diff)\n",
    "    print(\"Day with the Smallest Temperature Variation: %s\" %min_diff_date)\n",
    "    print(\"Minimum Temperature Difference: %.1f Celsius\" %min_diff)"
   ]
  },
  {
   "cell_type": "code",
   "execution_count": null,
   "metadata": {},
   "outputs": [],
   "source": []
  }
 ],
 "metadata": {
  "kernelspec": {
   "display_name": "Python 3",
   "language": "python",
   "name": "python3"
  },
  "language_info": {
   "codemirror_mode": {
    "name": "ipython",
    "version": 3
   },
   "file_extension": ".py",
   "mimetype": "text/x-python",
   "name": "python",
   "nbconvert_exporter": "python",
   "pygments_lexer": "ipython3",
   "version": "3.8.5"
  }
 },
 "nbformat": 4,
 "nbformat_minor": 4
}
